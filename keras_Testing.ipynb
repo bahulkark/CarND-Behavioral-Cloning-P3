{
 "cells": [
  {
   "cell_type": "code",
   "execution_count": 1,
   "metadata": {},
   "outputs": [],
   "source": [
    "import pickle\n",
    "import numpy as np\n",
    "import tensorflow as tf\n",
    "\n",
    "# Load pickled data\n",
    "with open('small_train_traffic.p', mode='rb') as f:\n",
    "    data = pickle.load(f)"
   ]
  },
  {
   "cell_type": "code",
   "execution_count": 2,
   "metadata": {},
   "outputs": [],
   "source": [
    "# Split the data\n",
    "X_train, y_train = data['features'], data['labels']"
   ]
  },
  {
   "cell_type": "code",
   "execution_count": 3,
   "metadata": {},
   "outputs": [
    {
     "name": "stderr",
     "output_type": "stream",
     "text": [
      "Using TensorFlow backend.\n"
     ]
    }
   ],
   "source": [
    "# Setup Keras\n",
    "from keras.models import Sequential\n",
    "from keras.layers.core import Dense, Activation, Flatten, Dropout\n",
    "from keras.layers.convolutional import Conv2D\n",
    "from keras.layers.pooling import MaxPooling2D"
   ]
  },
  {
   "cell_type": "code",
   "execution_count": 4,
   "metadata": {},
   "outputs": [],
   "source": [
    "# TODO: Build the Final Test Neural Network in Keras Here\n",
    "# TODO: Build the Fully Connected Neural Network in Keras Here\n",
    "model = Sequential()\n",
    "model.add(Conv2D(32, kernel_size=(3,3), padding=\"VALID\",input_shape=(32,32,3)))\n",
    "model.add(MaxPooling2D(pool_size=(2,2)))\n",
    "model.add(Flatten())\n",
    "model.add(Dense(128))\n",
    "model.add(Activation('relu'))\n",
    "model.add(Dense(5))\n",
    "model.add(Activation('softmax'))"
   ]
  },
  {
   "cell_type": "code",
   "execution_count": 5,
   "metadata": {},
   "outputs": [],
   "source": [
    "# preprocess data\n",
    "X_normalized = np.array(X_train / 255.0 - 0.5 )\n",
    "\n",
    "from sklearn.preprocessing import LabelBinarizer\n",
    "label_binarizer = LabelBinarizer()\n",
    "y_one_hot = label_binarizer.fit_transform(y_train)"
   ]
  },
  {
   "cell_type": "code",
   "execution_count": 8,
   "metadata": {},
   "outputs": [
    {
     "name": "stdout",
     "output_type": "stream",
     "text": [
      "Train on 80 samples, validate on 20 samples\n",
      "Epoch 1/14\n",
      "80/80 [==============================] - 0s 4ms/step - loss: 0.5399 - acc: 0.6875 - val_loss: 0.2590 - val_acc: 0.8500\n",
      "Epoch 2/14\n",
      "80/80 [==============================] - 0s 2ms/step - loss: 0.4792 - acc: 0.6875 - val_loss: 0.1799 - val_acc: 1.0000\n",
      "Epoch 3/14\n",
      "80/80 [==============================] - 0s 2ms/step - loss: 0.2810 - acc: 0.8750 - val_loss: 0.1961 - val_acc: 0.8500\n",
      "Epoch 4/14\n",
      "80/80 [==============================] - 0s 2ms/step - loss: 0.2877 - acc: 0.8625 - val_loss: 0.1616 - val_acc: 0.8500\n",
      "Epoch 5/14\n",
      "80/80 [==============================] - 0s 2ms/step - loss: 0.2177 - acc: 0.8375 - val_loss: 0.1173 - val_acc: 1.0000\n",
      "Epoch 6/14\n",
      "80/80 [==============================] - 0s 2ms/step - loss: 0.1853 - acc: 0.9875 - val_loss: 0.1072 - val_acc: 1.0000\n",
      "Epoch 7/14\n",
      "80/80 [==============================] - 0s 2ms/step - loss: 0.1664 - acc: 1.0000 - val_loss: 0.0971 - val_acc: 1.0000\n",
      "Epoch 8/14\n",
      "80/80 [==============================] - 0s 2ms/step - loss: 0.1459 - acc: 1.0000 - val_loss: 0.0778 - val_acc: 1.0000\n",
      "Epoch 9/14\n",
      "80/80 [==============================] - 0s 2ms/step - loss: 0.1227 - acc: 1.0000 - val_loss: 0.0698 - val_acc: 1.0000\n",
      "Epoch 10/14\n",
      "80/80 [==============================] - 0s 2ms/step - loss: 0.1163 - acc: 1.0000 - val_loss: 0.0611 - val_acc: 1.0000\n",
      "Epoch 11/14\n",
      "80/80 [==============================] - 0s 2ms/step - loss: 0.0953 - acc: 1.0000 - val_loss: 0.0573 - val_acc: 1.0000\n",
      "Epoch 12/14\n",
      "80/80 [==============================] - 0s 2ms/step - loss: 0.0998 - acc: 0.9875 - val_loss: 0.0497 - val_acc: 1.0000\n",
      "Epoch 13/14\n",
      "80/80 [==============================] - 0s 2ms/step - loss: 0.1272 - acc: 0.9875 - val_loss: 0.0408 - val_acc: 1.0000\n",
      "Epoch 14/14\n",
      "80/80 [==============================] - 0s 2ms/step - loss: 0.0946 - acc: 0.9625 - val_loss: 0.0496 - val_acc: 1.0000\n"
     ]
    }
   ],
   "source": [
    "# compile and fit the model\n",
    "model.compile('adam', 'categorical_crossentropy', ['accuracy'])\n",
    "history = model.fit(X_normalized, y_one_hot, epochs=14, validation_split=0.2)"
   ]
  },
  {
   "cell_type": "code",
   "execution_count": 9,
   "metadata": {},
   "outputs": [
    {
     "name": "stdout",
     "output_type": "stream",
     "text": [
      "Testing\n",
      "20/20 [==============================] - 0s 657us/step\n",
      "loss: 0.09910456836223602\n",
      "acc: 1.0\n"
     ]
    }
   ],
   "source": [
    "# evaluate model against the test data\n",
    "with open('small_test_traffic.p', 'rb') as f:\n",
    "    data_test = pickle.load(f)\n",
    "\n",
    "X_test = data_test['features']\n",
    "y_test = data_test['labels']\n",
    "\n",
    "# preprocess data\n",
    "X_normalized_test = np.array(X_test / 255.0 - 0.5 )\n",
    "y_one_hot_test = label_binarizer.fit_transform(y_test)\n",
    "\n",
    "print(\"Testing\")\n",
    "\n",
    "metrics = model.evaluate(X_normalized_test, y_one_hot_test)\n",
    "for metric_i in range(len(model.metrics_names)):\n",
    "    metric_name = model.metrics_names[metric_i]\n",
    "    metric_value = metrics[metric_i]\n",
    "    print('{}: {}'.format(metric_name, metric_value))    "
   ]
  },
  {
   "cell_type": "code",
   "execution_count": null,
   "metadata": {},
   "outputs": [],
   "source": [
    "### DON'T MODIFY ANYTHING BELOW ###\n",
    "### Be sure to run all cells above before running this cell ###\n",
    "import grader\n",
    "\n",
    "try:\n",
    "    grader.run_grader(metrics)\n",
    "except Exception as err:\n",
    "    print(str(err))"
   ]
  },
  {
   "cell_type": "code",
   "execution_count": null,
   "metadata": {},
   "outputs": [],
   "source": []
  }
 ],
 "metadata": {
  "kernelspec": {
   "display_name": "Python 3",
   "language": "python",
   "name": "python3"
  },
  "language_info": {
   "codemirror_mode": {
    "name": "ipython",
    "version": 3
   },
   "file_extension": ".py",
   "mimetype": "text/x-python",
   "name": "python",
   "nbconvert_exporter": "python",
   "pygments_lexer": "ipython3",
   "version": "3.6.3"
  }
 },
 "nbformat": 4,
 "nbformat_minor": 2
}
